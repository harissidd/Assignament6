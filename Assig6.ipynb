{
 "cells": [
  {
   "cell_type": "code",
   "execution_count": null,
   "metadata": {},
   "outputs": [],
   "source": [
    "Q1 - Define Object oriented Programming Langugae ?\n",
    "Ans - Object-oriented programming (OOP) is a programming language model in which programs are organized around data, or objects, rather than functions and logic. An object can be defined as a data field that has unique attributes and behavior. Examples of an object can range from physical entities, such as a human being that is described by properties like name and address, down to small computer programs, such as widgets. This opposes the historical approach to programming where emphasis was placed on how the logic was written rather than how to define the data within the logic.\n",
    "\n",
    "Q2 - Benifits Of OOP?\n",
    "ANs - The benifits of OOP is to organize a programs structure so that one can build programs using these abstract models called \"objects\" that encapsulate data and behavior into one unit.\n",
    "    -Through inheritance ,we can eliminate redundant code and extend the use of existing classes.\n",
    "    -Encapsulation features that is packing of data & functions into a single component are to be allowed.\n",
    "    -The principal of data hiding helps the programmer to built secure programs that canot be inveded by code in other parts of the program.\n",
    "    -It is easy to partition the work in a project based on objects.\n",
    "    -Message passing techniques for communication between objects makes the interface descriptions with external systems much simpler.\n",
    "    -Software complexity can be easily managed.\n",
    "Q3 - Difference Between Function and Method ?\n",
    "Ans - A function has another property: all calls to a function with the same parameters, should return the same result. A method, on the other hand, is a function that is related to an object in an object-oriented language. It has one implicit parameter: the object being acted upon and its state.\n",
    "Q4 - Define the Following ?\n",
    "    *CLass:\n",
    "        a class describes the contents of the objects that belong to it: it describes an aggregate of data fields (called instance variables), and defines the operations (called methods). \n",
    "    *Object:\n",
    "        an object is an element (or instance) of a class; objects have the behaviors of their class.\n",
    "    *Attribute:\n",
    "         an attribute is a specification that defines a property of an object, element, or file. It may also refer to or set the specific value for a given instance of such. For clarity, attributes should more correctly be considered metadata.\n",
    "    *Behavior:\n",
    "        an approach and technique for software development, which enables incremental development in a natural way.\n",
    "        "
   ]
  },
  {
   "cell_type": "code",
   "execution_count": 6,
   "metadata": {},
   "outputs": [
    {
     "name": "stdout",
     "output_type": "stream",
     "text": [
      "<__main__.car object at 0x000001E6D427E708>\n",
      "<__main__.car object at 0x000001E6D3334C48>\n"
     ]
    }
   ],
   "source": [
    "class car():\n",
    "    def __init__(self,model,color,name,make,hospower):\n",
    "        self.model = 2005\n",
    "        self.color = 'blue'\n",
    "        self.name = 'Civic'\n",
    "        self.make='Honda'\n",
    "        self.hospower=660\n",
    "        def updatemodel(self,newmodel):\n",
    "            self.model = newmodel\n",
    "        def updatecolor(self,newcolor):\n",
    "            self.color = newcolor\n",
    "        def updatename(self,newname):\n",
    "            self.name = newname\n",
    "            \n",
    "car1 = car(2003,'red','corolla','toyota',1600)\n",
    "car2 = car(2005,'Gray','Mira','toyota',1500)\n",
    "car3 = car(2003,'black','coure','daihatsu',1200)\n",
    "car4 = car(2015,'white','Civic','Honda',1500)\n",
    "car5 = car(2009,'RedVine','Freed','Hona',1800)\n",
    "print(car1)\n",
    "print(car2)\n",
    "print(car3)\n",
    "print(car4)\n",
    "print(car5)"
   ]
  },
  {
   "cell_type": "code",
   "execution_count": null,
   "metadata": {},
   "outputs": [],
   "source": []
  }
 ],
 "metadata": {
  "kernelspec": {
   "display_name": "Python 3",
   "language": "python",
   "name": "python3"
  },
  "language_info": {
   "codemirror_mode": {
    "name": "ipython",
    "version": 3
   },
   "file_extension": ".py",
   "mimetype": "text/x-python",
   "name": "python",
   "nbconvert_exporter": "python",
   "pygments_lexer": "ipython3",
   "version": "3.7.4"
  }
 },
 "nbformat": 4,
 "nbformat_minor": 2
}
